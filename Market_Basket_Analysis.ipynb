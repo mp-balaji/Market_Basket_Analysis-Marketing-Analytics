{
 "cells": [
  {
   "cell_type": "code",
   "execution_count": 1,
   "id": "1066c623",
   "metadata": {},
   "outputs": [],
   "source": [
    "import pandas as pd\n",
    "import numpy as np\n",
    "import matplotlib.pyplot as plt\n",
    "%matplotlib inline\n",
    "import seaborn as sns\n",
    "\n",
    "import warnings\n",
    "warnings.filterwarnings('ignore')"
   ]
  },
  {
   "cell_type": "code",
   "execution_count": 2,
   "id": "3d57e2b2",
   "metadata": {},
   "outputs": [],
   "source": [
    "df = pd.read_csv('dataset_group.csv')"
   ]
  },
  {
   "cell_type": "code",
   "execution_count": 3,
   "id": "bbea0f7f",
   "metadata": {},
   "outputs": [
    {
     "data": {
      "text/html": [
       "<div>\n",
       "<style scoped>\n",
       "    .dataframe tbody tr th:only-of-type {\n",
       "        vertical-align: middle;\n",
       "    }\n",
       "\n",
       "    .dataframe tbody tr th {\n",
       "        vertical-align: top;\n",
       "    }\n",
       "\n",
       "    .dataframe thead th {\n",
       "        text-align: right;\n",
       "    }\n",
       "</style>\n",
       "<table border=\"1\" class=\"dataframe\">\n",
       "  <thead>\n",
       "    <tr style=\"text-align: right;\">\n",
       "      <th></th>\n",
       "      <th>Date</th>\n",
       "      <th>Order_id</th>\n",
       "      <th>Product</th>\n",
       "    </tr>\n",
       "  </thead>\n",
       "  <tbody>\n",
       "    <tr>\n",
       "      <th>0</th>\n",
       "      <td>2018-01-01</td>\n",
       "      <td>1</td>\n",
       "      <td>yogurt</td>\n",
       "    </tr>\n",
       "    <tr>\n",
       "      <th>1</th>\n",
       "      <td>2018-01-01</td>\n",
       "      <td>1</td>\n",
       "      <td>pork</td>\n",
       "    </tr>\n",
       "    <tr>\n",
       "      <th>2</th>\n",
       "      <td>2018-01-01</td>\n",
       "      <td>1</td>\n",
       "      <td>sandwich bags</td>\n",
       "    </tr>\n",
       "    <tr>\n",
       "      <th>3</th>\n",
       "      <td>2018-01-01</td>\n",
       "      <td>1</td>\n",
       "      <td>lunch meat</td>\n",
       "    </tr>\n",
       "    <tr>\n",
       "      <th>4</th>\n",
       "      <td>2018-01-01</td>\n",
       "      <td>1</td>\n",
       "      <td>all- purpose</td>\n",
       "    </tr>\n",
       "    <tr>\n",
       "      <th>5</th>\n",
       "      <td>2018-01-01</td>\n",
       "      <td>1</td>\n",
       "      <td>flour</td>\n",
       "    </tr>\n",
       "    <tr>\n",
       "      <th>6</th>\n",
       "      <td>2018-01-01</td>\n",
       "      <td>1</td>\n",
       "      <td>soda</td>\n",
       "    </tr>\n",
       "    <tr>\n",
       "      <th>7</th>\n",
       "      <td>2018-01-01</td>\n",
       "      <td>1</td>\n",
       "      <td>butter</td>\n",
       "    </tr>\n",
       "    <tr>\n",
       "      <th>8</th>\n",
       "      <td>2018-01-01</td>\n",
       "      <td>1</td>\n",
       "      <td>beef</td>\n",
       "    </tr>\n",
       "    <tr>\n",
       "      <th>9</th>\n",
       "      <td>2018-01-01</td>\n",
       "      <td>1</td>\n",
       "      <td>aluminum foil</td>\n",
       "    </tr>\n",
       "  </tbody>\n",
       "</table>\n",
       "</div>"
      ],
      "text/plain": [
       "         Date  Order_id        Product\n",
       "0  2018-01-01         1         yogurt\n",
       "1  2018-01-01         1           pork\n",
       "2  2018-01-01         1  sandwich bags\n",
       "3  2018-01-01         1     lunch meat\n",
       "4  2018-01-01         1   all- purpose\n",
       "5  2018-01-01         1          flour\n",
       "6  2018-01-01         1           soda\n",
       "7  2018-01-01         1         butter\n",
       "8  2018-01-01         1           beef\n",
       "9  2018-01-01         1  aluminum foil"
      ]
     },
     "execution_count": 3,
     "metadata": {},
     "output_type": "execute_result"
    }
   ],
   "source": [
    "df.head(10)"
   ]
  },
  {
   "cell_type": "code",
   "execution_count": 4,
   "id": "3d9aaba3",
   "metadata": {},
   "outputs": [
    {
     "name": "stdout",
     "output_type": "stream",
     "text": [
      "<class 'pandas.core.frame.DataFrame'>\n",
      "RangeIndex: 20641 entries, 0 to 20640\n",
      "Data columns (total 3 columns):\n",
      " #   Column    Non-Null Count  Dtype \n",
      "---  ------    --------------  ----- \n",
      " 0   Date      20641 non-null  object\n",
      " 1   Order_id  20641 non-null  int64 \n",
      " 2   Product   20641 non-null  object\n",
      "dtypes: int64(1), object(2)\n",
      "memory usage: 483.9+ KB\n"
     ]
    }
   ],
   "source": [
    "df.info()"
   ]
  },
  {
   "cell_type": "code",
   "execution_count": 5,
   "id": "6e52e8b3",
   "metadata": {},
   "outputs": [
    {
     "data": {
      "text/plain": [
       "(20641, 3)"
      ]
     },
     "execution_count": 5,
     "metadata": {},
     "output_type": "execute_result"
    }
   ],
   "source": [
    "df.shape"
   ]
  },
  {
   "cell_type": "code",
   "execution_count": 6,
   "id": "7a1fcba9",
   "metadata": {},
   "outputs": [
    {
     "data": {
      "text/plain": [
       "Date        0\n",
       "Order_id    0\n",
       "Product     0\n",
       "dtype: int64"
      ]
     },
     "execution_count": 6,
     "metadata": {},
     "output_type": "execute_result"
    }
   ],
   "source": [
    "df.isnull().sum()"
   ]
  },
  {
   "cell_type": "code",
   "execution_count": 7,
   "id": "ea824dc4",
   "metadata": {},
   "outputs": [],
   "source": [
    "# no null values\n",
    "# Date column needs to be changed to DateTime. The conversion is required for Data Vizualization and hence will be done in Tableau"
   ]
  },
  {
   "cell_type": "code",
   "execution_count": 8,
   "id": "5cba3d06",
   "metadata": {},
   "outputs": [
    {
     "data": {
      "text/plain": [
       "37"
      ]
     },
     "execution_count": 8,
     "metadata": {},
     "output_type": "execute_result"
    }
   ],
   "source": [
    "df.Product.nunique()"
   ]
  },
  {
   "cell_type": "code",
   "execution_count": 9,
   "id": "fe6ae302",
   "metadata": {},
   "outputs": [
    {
     "data": {
      "text/plain": [
       "poultry                         640\n",
       "soda                            597\n",
       "cereals                         591\n",
       "ice cream                       579\n",
       "cheeses                         578\n",
       "waffles                         575\n",
       "soap                            574\n",
       "bagels                          573\n",
       "lunch meat                      573\n",
       "juice                           570\n",
       "eggs                            570\n",
       "toilet paper                    569\n",
       "dinner rolls                    567\n",
       "aluminum foil                   566\n",
       "coffee/tea                      565\n",
       "shampoo                         562\n",
       "beef                            561\n",
       "paper towels                    556\n",
       "flour                           555\n",
       "butter                          555\n",
       "milk                            555\n",
       "mixes                           554\n",
       "dishwashing liquid/detergent    551\n",
       "all- purpose                    551\n",
       "ketchup                         548\n",
       "yogurt                          545\n",
       "individual meals                544\n",
       "tortillas                       543\n",
       "pasta                           542\n",
       "laundry detergent               542\n",
       "spaghetti sauce                 536\n",
       "sandwich bags                   536\n",
       "sugar                           533\n",
       "pork                            531\n",
       "fruits                          529\n",
       "sandwich loaves                 523\n",
       "hand soap                       502\n",
       "Name: Product, dtype: int64"
      ]
     },
     "execution_count": 9,
     "metadata": {},
     "output_type": "execute_result"
    }
   ],
   "source": [
    "df.Product.value_counts()"
   ]
  },
  {
   "cell_type": "code",
   "execution_count": 10,
   "id": "c76075e6",
   "metadata": {},
   "outputs": [],
   "source": [
    "# There are 37 unique items in the grocery store\n",
    "# Poultry, soda, cereals, ice cream and cheeses are the top 5 selling items as of quantity sold"
   ]
  },
  {
   "cell_type": "code",
   "execution_count": 11,
   "id": "1a2570e5",
   "metadata": {},
   "outputs": [
    {
     "data": {
      "text/html": [
       "<div>\n",
       "<style scoped>\n",
       "    .dataframe tbody tr th:only-of-type {\n",
       "        vertical-align: middle;\n",
       "    }\n",
       "\n",
       "    .dataframe tbody tr th {\n",
       "        vertical-align: top;\n",
       "    }\n",
       "\n",
       "    .dataframe thead th {\n",
       "        text-align: right;\n",
       "    }\n",
       "</style>\n",
       "<table border=\"1\" class=\"dataframe\">\n",
       "  <thead>\n",
       "    <tr style=\"text-align: right;\">\n",
       "      <th></th>\n",
       "      <th>count</th>\n",
       "      <th>unique</th>\n",
       "      <th>top</th>\n",
       "      <th>freq</th>\n",
       "    </tr>\n",
       "  </thead>\n",
       "  <tbody>\n",
       "    <tr>\n",
       "      <th>Date</th>\n",
       "      <td>20641</td>\n",
       "      <td>603</td>\n",
       "      <td>2019-02-08</td>\n",
       "      <td>183</td>\n",
       "    </tr>\n",
       "    <tr>\n",
       "      <th>Product</th>\n",
       "      <td>20641</td>\n",
       "      <td>37</td>\n",
       "      <td>poultry</td>\n",
       "      <td>640</td>\n",
       "    </tr>\n",
       "  </tbody>\n",
       "</table>\n",
       "</div>"
      ],
      "text/plain": [
       "         count unique         top freq\n",
       "Date     20641    603  2019-02-08  183\n",
       "Product  20641     37     poultry  640"
      ]
     },
     "execution_count": 11,
     "metadata": {},
     "output_type": "execute_result"
    }
   ],
   "source": [
    "df.describe(include='O').T"
   ]
  },
  {
   "cell_type": "code",
   "execution_count": 12,
   "id": "2f7ee85e",
   "metadata": {},
   "outputs": [
    {
     "data": {
      "text/plain": [
       "1139"
      ]
     },
     "execution_count": 12,
     "metadata": {},
     "output_type": "execute_result"
    }
   ],
   "source": [
    "# Checking the total no of orders\n",
    "df.Order_id.nunique()"
   ]
  },
  {
   "cell_type": "code",
   "execution_count": 13,
   "id": "320f948c",
   "metadata": {},
   "outputs": [
    {
     "data": {
      "text/html": [
       "<div>\n",
       "<style scoped>\n",
       "    .dataframe tbody tr th:only-of-type {\n",
       "        vertical-align: middle;\n",
       "    }\n",
       "\n",
       "    .dataframe tbody tr th {\n",
       "        vertical-align: top;\n",
       "    }\n",
       "\n",
       "    .dataframe thead th {\n",
       "        text-align: right;\n",
       "    }\n",
       "</style>\n",
       "<table border=\"1\" class=\"dataframe\">\n",
       "  <thead>\n",
       "    <tr style=\"text-align: right;\">\n",
       "      <th></th>\n",
       "      <th>count</th>\n",
       "      <th>unique</th>\n",
       "      <th>top</th>\n",
       "      <th>freq</th>\n",
       "      <th>first</th>\n",
       "      <th>last</th>\n",
       "      <th>mean</th>\n",
       "      <th>std</th>\n",
       "      <th>min</th>\n",
       "      <th>25%</th>\n",
       "      <th>50%</th>\n",
       "      <th>75%</th>\n",
       "      <th>max</th>\n",
       "    </tr>\n",
       "  </thead>\n",
       "  <tbody>\n",
       "    <tr>\n",
       "      <th>Date</th>\n",
       "      <td>20641</td>\n",
       "      <td>603</td>\n",
       "      <td>2019-02-08 00:00:00</td>\n",
       "      <td>183</td>\n",
       "      <td>2018-01-01</td>\n",
       "      <td>2020-02-26</td>\n",
       "      <td>NaN</td>\n",
       "      <td>NaN</td>\n",
       "      <td>NaN</td>\n",
       "      <td>NaN</td>\n",
       "      <td>NaN</td>\n",
       "      <td>NaN</td>\n",
       "      <td>NaN</td>\n",
       "    </tr>\n",
       "    <tr>\n",
       "      <th>Order_id</th>\n",
       "      <td>20641.0</td>\n",
       "      <td>NaN</td>\n",
       "      <td>NaN</td>\n",
       "      <td>NaN</td>\n",
       "      <td>NaT</td>\n",
       "      <td>NaT</td>\n",
       "      <td>575.986289</td>\n",
       "      <td>328.557078</td>\n",
       "      <td>1.0</td>\n",
       "      <td>292.0</td>\n",
       "      <td>581.0</td>\n",
       "      <td>862.0</td>\n",
       "      <td>1139.0</td>\n",
       "    </tr>\n",
       "    <tr>\n",
       "      <th>Product</th>\n",
       "      <td>20641</td>\n",
       "      <td>37</td>\n",
       "      <td>poultry</td>\n",
       "      <td>640</td>\n",
       "      <td>NaT</td>\n",
       "      <td>NaT</td>\n",
       "      <td>NaN</td>\n",
       "      <td>NaN</td>\n",
       "      <td>NaN</td>\n",
       "      <td>NaN</td>\n",
       "      <td>NaN</td>\n",
       "      <td>NaN</td>\n",
       "      <td>NaN</td>\n",
       "    </tr>\n",
       "  </tbody>\n",
       "</table>\n",
       "</div>"
      ],
      "text/plain": [
       "            count unique                  top freq      first       last  \\\n",
       "Date        20641    603  2019-02-08 00:00:00  183 2018-01-01 2020-02-26   \n",
       "Order_id  20641.0    NaN                  NaN  NaN        NaT        NaT   \n",
       "Product     20641     37              poultry  640        NaT        NaT   \n",
       "\n",
       "                mean         std  min    25%    50%    75%     max  \n",
       "Date             NaN         NaN  NaN    NaN    NaN    NaN     NaN  \n",
       "Order_id  575.986289  328.557078  1.0  292.0  581.0  862.0  1139.0  \n",
       "Product          NaN         NaN  NaN    NaN    NaN    NaN     NaN  "
      ]
     },
     "execution_count": 13,
     "metadata": {},
     "output_type": "execute_result"
    }
   ],
   "source": [
    "df['Date'] = pd.to_datetime(df['Date'])\n",
    "df.describe(include='all').T"
   ]
  },
  {
   "cell_type": "code",
   "execution_count": 14,
   "id": "9212f25d",
   "metadata": {},
   "outputs": [],
   "source": [
    "# The records in the dataset are collected from Jan 1, 2018 to Feb 26, 2020"
   ]
  },
  {
   "cell_type": "code",
   "execution_count": 68,
   "id": "35a34f69",
   "metadata": {},
   "outputs": [
    {
     "data": {
      "text/plain": [
       "Product    13.969271\n",
       "dtype: float64"
      ]
     },
     "execution_count": 68,
     "metadata": {},
     "output_type": "execute_result"
    }
   ],
   "source": [
    "# Gives the list of unique products for each order_id and then getting the average\n",
    "df[['Order_id','Product']].groupby(['Order_id']).nunique().mean()"
   ]
  },
  {
   "cell_type": "code",
   "execution_count": 16,
   "id": "108d4417",
   "metadata": {},
   "outputs": [
    {
     "data": {
      "text/html": [
       "<div>\n",
       "<style scoped>\n",
       "    .dataframe tbody tr th:only-of-type {\n",
       "        vertical-align: middle;\n",
       "    }\n",
       "\n",
       "    .dataframe tbody tr th {\n",
       "        vertical-align: top;\n",
       "    }\n",
       "\n",
       "    .dataframe thead th {\n",
       "        text-align: right;\n",
       "    }\n",
       "</style>\n",
       "<table border=\"1\" class=\"dataframe\">\n",
       "  <thead>\n",
       "    <tr style=\"text-align: right;\">\n",
       "      <th></th>\n",
       "      <th>RowID</th>\n",
       "      <th>Support</th>\n",
       "      <th>Confidence</th>\n",
       "      <th>Lift</th>\n",
       "      <th>Recommended Product</th>\n",
       "      <th>implies</th>\n",
       "      <th>Basket</th>\n",
       "    </tr>\n",
       "  </thead>\n",
       "  <tbody>\n",
       "    <tr>\n",
       "      <th>0</th>\n",
       "      <td>rule2790</td>\n",
       "      <td>0.030729</td>\n",
       "      <td>0.795455</td>\n",
       "      <td>2.193760</td>\n",
       "      <td>paper towels</td>\n",
       "      <td>&lt;---</td>\n",
       "      <td>[eggs, ice cream, pasta, lunch meat]</td>\n",
       "    </tr>\n",
       "    <tr>\n",
       "      <th>1</th>\n",
       "      <td>rule6038</td>\n",
       "      <td>0.031607</td>\n",
       "      <td>0.782609</td>\n",
       "      <td>2.158332</td>\n",
       "      <td>paper towels</td>\n",
       "      <td>&lt;---</td>\n",
       "      <td>[eggs, ice cream, pasta, cereals]</td>\n",
       "    </tr>\n",
       "    <tr>\n",
       "      <th>2</th>\n",
       "      <td>rule2791</td>\n",
       "      <td>0.030729</td>\n",
       "      <td>0.729167</td>\n",
       "      <td>2.065972</td>\n",
       "      <td>flour</td>\n",
       "      <td>&lt;---</td>\n",
       "      <td>[dishwashing liquid/detergent, cheeses, waffle...</td>\n",
       "    </tr>\n",
       "    <tr>\n",
       "      <th>3</th>\n",
       "      <td>rule9828</td>\n",
       "      <td>0.032485</td>\n",
       "      <td>0.740000</td>\n",
       "      <td>2.040823</td>\n",
       "      <td>paper towels</td>\n",
       "      <td>&lt;---</td>\n",
       "      <td>[eggs, dinner rolls, ice cream, pasta]</td>\n",
       "    </tr>\n",
       "    <tr>\n",
       "      <th>4</th>\n",
       "      <td>rule6043</td>\n",
       "      <td>0.031607</td>\n",
       "      <td>0.720000</td>\n",
       "      <td>1.985666</td>\n",
       "      <td>paper towels</td>\n",
       "      <td>&lt;---</td>\n",
       "      <td>[eggs, poultry, ice cream, pasta]</td>\n",
       "    </tr>\n",
       "  </tbody>\n",
       "</table>\n",
       "</div>"
      ],
      "text/plain": [
       "      RowID   Support  Confidence      Lift Recommended Product implies  \\\n",
       "0  rule2790  0.030729    0.795455  2.193760        paper towels    <---   \n",
       "1  rule6038  0.031607    0.782609  2.158332        paper towels    <---   \n",
       "2  rule2791  0.030729    0.729167  2.065972               flour    <---   \n",
       "3  rule9828  0.032485    0.740000  2.040823        paper towels    <---   \n",
       "4  rule6043  0.031607    0.720000  1.985666        paper towels    <---   \n",
       "\n",
       "                                              Basket  \n",
       "0               [eggs, ice cream, pasta, lunch meat]  \n",
       "1                  [eggs, ice cream, pasta, cereals]  \n",
       "2  [dishwashing liquid/detergent, cheeses, waffle...  \n",
       "3             [eggs, dinner rolls, ice cream, pasta]  \n",
       "4                  [eggs, poultry, ice cream, pasta]  "
      ]
     },
     "execution_count": 16,
     "metadata": {},
     "output_type": "execute_result"
    }
   ],
   "source": [
    "output = pd.read_excel(\"Final Project\\Balaji_MP_Market_Basket_Analysis_Output.xlsx\")\n",
    "output.head()"
   ]
  },
  {
   "cell_type": "code",
   "execution_count": 19,
   "id": "f76266a4",
   "metadata": {},
   "outputs": [
    {
     "data": {
      "text/html": [
       "<div>\n",
       "<style scoped>\n",
       "    .dataframe tbody tr th:only-of-type {\n",
       "        vertical-align: middle;\n",
       "    }\n",
       "\n",
       "    .dataframe tbody tr th {\n",
       "        vertical-align: top;\n",
       "    }\n",
       "\n",
       "    .dataframe thead th {\n",
       "        text-align: right;\n",
       "    }\n",
       "</style>\n",
       "<table border=\"1\" class=\"dataframe\">\n",
       "  <thead>\n",
       "    <tr style=\"text-align: right;\">\n",
       "      <th></th>\n",
       "      <th>RowID</th>\n",
       "      <th>Support</th>\n",
       "      <th>Confidence</th>\n",
       "      <th>Lift</th>\n",
       "      <th>Recommended Product</th>\n",
       "      <th>implies</th>\n",
       "      <th>Basket</th>\n",
       "    </tr>\n",
       "  </thead>\n",
       "  <tbody>\n",
       "    <tr>\n",
       "      <th>0</th>\n",
       "      <td>rule2790</td>\n",
       "      <td>0.030729</td>\n",
       "      <td>0.795455</td>\n",
       "      <td>2.193760</td>\n",
       "      <td>paper towels</td>\n",
       "      <td>&lt;---</td>\n",
       "      <td>[eggs, ice cream, pasta, lunch meat]</td>\n",
       "    </tr>\n",
       "    <tr>\n",
       "      <th>1</th>\n",
       "      <td>rule6038</td>\n",
       "      <td>0.031607</td>\n",
       "      <td>0.782609</td>\n",
       "      <td>2.158332</td>\n",
       "      <td>paper towels</td>\n",
       "      <td>&lt;---</td>\n",
       "      <td>[eggs, ice cream, pasta, cereals]</td>\n",
       "    </tr>\n",
       "    <tr>\n",
       "      <th>2</th>\n",
       "      <td>rule2791</td>\n",
       "      <td>0.030729</td>\n",
       "      <td>0.729167</td>\n",
       "      <td>2.065972</td>\n",
       "      <td>flour</td>\n",
       "      <td>&lt;---</td>\n",
       "      <td>[dishwashing liquid/detergent, cheeses, waffle...</td>\n",
       "    </tr>\n",
       "    <tr>\n",
       "      <th>3</th>\n",
       "      <td>rule9828</td>\n",
       "      <td>0.032485</td>\n",
       "      <td>0.740000</td>\n",
       "      <td>2.040823</td>\n",
       "      <td>paper towels</td>\n",
       "      <td>&lt;---</td>\n",
       "      <td>[eggs, dinner rolls, ice cream, pasta]</td>\n",
       "    </tr>\n",
       "    <tr>\n",
       "      <th>4</th>\n",
       "      <td>rule6043</td>\n",
       "      <td>0.031607</td>\n",
       "      <td>0.720000</td>\n",
       "      <td>1.985666</td>\n",
       "      <td>paper towels</td>\n",
       "      <td>&lt;---</td>\n",
       "      <td>[eggs, poultry, ice cream, pasta]</td>\n",
       "    </tr>\n",
       "    <tr>\n",
       "      <th>5</th>\n",
       "      <td>rule2787</td>\n",
       "      <td>0.030729</td>\n",
       "      <td>0.777778</td>\n",
       "      <td>1.951297</td>\n",
       "      <td>ice cream</td>\n",
       "      <td>&lt;---</td>\n",
       "      <td>[paper towels, eggs, pasta, lunch meat]</td>\n",
       "    </tr>\n",
       "    <tr>\n",
       "      <th>6</th>\n",
       "      <td>rule2792</td>\n",
       "      <td>0.030729</td>\n",
       "      <td>0.760870</td>\n",
       "      <td>1.947484</td>\n",
       "      <td>soda</td>\n",
       "      <td>&lt;---</td>\n",
       "      <td>[dishwashing liquid/detergent, cheeses, flour,...</td>\n",
       "    </tr>\n",
       "    <tr>\n",
       "      <th>7</th>\n",
       "      <td>rule14095</td>\n",
       "      <td>0.033363</td>\n",
       "      <td>0.716981</td>\n",
       "      <td>1.930595</td>\n",
       "      <td>pasta</td>\n",
       "      <td>&lt;---</td>\n",
       "      <td>[paper towels, dishwashing liquid/detergent, e...</td>\n",
       "    </tr>\n",
       "    <tr>\n",
       "      <th>8</th>\n",
       "      <td>rule42417</td>\n",
       "      <td>0.040386</td>\n",
       "      <td>0.696970</td>\n",
       "      <td>1.922151</td>\n",
       "      <td>paper towels</td>\n",
       "      <td>&lt;---</td>\n",
       "      <td>[all- purpose, individual meals, toilet paper]</td>\n",
       "    </tr>\n",
       "    <tr>\n",
       "      <th>9</th>\n",
       "      <td>rule2803</td>\n",
       "      <td>0.030729</td>\n",
       "      <td>0.714286</td>\n",
       "      <td>1.914286</td>\n",
       "      <td>spaghetti sauce</td>\n",
       "      <td>&lt;---</td>\n",
       "      <td>[dinner rolls, poultry, laundry detergent, juice]</td>\n",
       "    </tr>\n",
       "  </tbody>\n",
       "</table>\n",
       "</div>"
      ],
      "text/plain": [
       "       RowID   Support  Confidence      Lift Recommended Product implies  \\\n",
       "0   rule2790  0.030729    0.795455  2.193760        paper towels    <---   \n",
       "1   rule6038  0.031607    0.782609  2.158332        paper towels    <---   \n",
       "2   rule2791  0.030729    0.729167  2.065972               flour    <---   \n",
       "3   rule9828  0.032485    0.740000  2.040823        paper towels    <---   \n",
       "4   rule6043  0.031607    0.720000  1.985666        paper towels    <---   \n",
       "5   rule2787  0.030729    0.777778  1.951297           ice cream    <---   \n",
       "6   rule2792  0.030729    0.760870  1.947484                soda    <---   \n",
       "7  rule14095  0.033363    0.716981  1.930595               pasta    <---   \n",
       "8  rule42417  0.040386    0.696970  1.922151        paper towels    <---   \n",
       "9   rule2803  0.030729    0.714286  1.914286     spaghetti sauce    <---   \n",
       "\n",
       "                                              Basket  \n",
       "0               [eggs, ice cream, pasta, lunch meat]  \n",
       "1                  [eggs, ice cream, pasta, cereals]  \n",
       "2  [dishwashing liquid/detergent, cheeses, waffle...  \n",
       "3             [eggs, dinner rolls, ice cream, pasta]  \n",
       "4                  [eggs, poultry, ice cream, pasta]  \n",
       "5            [paper towels, eggs, pasta, lunch meat]  \n",
       "6  [dishwashing liquid/detergent, cheeses, flour,...  \n",
       "7  [paper towels, dishwashing liquid/detergent, e...  \n",
       "8     [all- purpose, individual meals, toilet paper]  \n",
       "9  [dinner rolls, poultry, laundry detergent, juice]  "
      ]
     },
     "execution_count": 19,
     "metadata": {},
     "output_type": "execute_result"
    }
   ],
   "source": [
    "output.sort_values(by=['Lift','Confidence'], ascending=False).head(10)"
   ]
  },
  {
   "cell_type": "code",
   "execution_count": 27,
   "id": "21bcdf81",
   "metadata": {},
   "outputs": [
    {
     "data": {
      "text/plain": [
       "paper towels       6\n",
       "pasta              4\n",
       "eggs               3\n",
       "sandwich loaves    2\n",
       "flour              1\n",
       "ice cream          1\n",
       "soda               1\n",
       "spaghetti sauce    1\n",
       "ketchup            1\n",
       "Name: Recommended Product, dtype: int64"
      ]
     },
     "execution_count": 27,
     "metadata": {},
     "output_type": "execute_result"
    }
   ],
   "source": [
    "output.sort_values(by=['Lift','Confidence'], ascending=False).head(20)['Recommended Product'].value_counts()"
   ]
  },
  {
   "cell_type": "code",
   "execution_count": 30,
   "id": "42a54d83",
   "metadata": {},
   "outputs": [
    {
     "data": {
      "text/plain": [
       "poultry         3891\n",
       "cheeses         2332\n",
       "soda            2231\n",
       "lunch meat      2219\n",
       "yogurt          2134\n",
       "dinner rolls    2006\n",
       "eggs            1986\n",
       "cereals         1966\n",
       "waffles         1943\n",
       "ice cream       1851\n",
       "Name: Recommended Product, dtype: int64"
      ]
     },
     "execution_count": 30,
     "metadata": {},
     "output_type": "execute_result"
    }
   ],
   "source": [
    "output.sort_values(by=['Lift','Confidence'], ascending=False)['Recommended Product'].value_counts().head(10)"
   ]
  },
  {
   "cell_type": "code",
   "execution_count": 69,
   "id": "9fe1ee28",
   "metadata": {},
   "outputs": [
    {
     "data": {
      "text/plain": [
       "Basket                                                     \n",
       "[yogurt, cheeses, sandwich bags]                               17\n",
       "[bagels, lunch meat, soda]                                     17\n",
       "[cheeses, all- purpose, flour]                                 16\n",
       "[dishwashing liquid/detergent, toilet paper, sandwich bags]    15\n",
       "[sandwich loaves, juice, ketchup]                              15\n",
       "                                                               ..\n",
       "[hand soap, bagels, cereals]                                    1\n",
       "[milk, toilet paper]                                            1\n",
       "[spaghetti sauce, tortillas]                                    1\n",
       "[poultry, sugar]                                                1\n",
       "[soda, ketchup]                                                 1\n",
       "Length: 8207, dtype: int64"
      ]
     },
     "execution_count": 69,
     "metadata": {},
     "output_type": "execute_result"
    }
   ],
   "source": [
    "output[['Basket']].value_counts()"
   ]
  }
 ],
 "metadata": {
  "kernelspec": {
   "display_name": "Python 3 (ipykernel)",
   "language": "python",
   "name": "python3"
  },
  "language_info": {
   "codemirror_mode": {
    "name": "ipython",
    "version": 3
   },
   "file_extension": ".py",
   "mimetype": "text/x-python",
   "name": "python",
   "nbconvert_exporter": "python",
   "pygments_lexer": "ipython3",
   "version": "3.9.7"
  }
 },
 "nbformat": 4,
 "nbformat_minor": 5
}
